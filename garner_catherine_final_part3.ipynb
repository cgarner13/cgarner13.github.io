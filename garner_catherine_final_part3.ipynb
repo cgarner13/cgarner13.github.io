{
 "cells": [
  {
   "cell_type": "code",
   "execution_count": 1,
   "metadata": {},
   "outputs": [],
   "source": [
    "%matplotlib inline\n",
    "import matplotlib\n",
    "import matplotlib.pyplot as plt\n",
    "matplotlib.rcParams[\"font.family\"] = \"sans-serif\" \n",
    "import numpy as np\n",
    "import pandas as pd\n",
    "import csv\n",
    "import bqplot\n",
    "import collections\n",
    "import ipywidgets as widgets\n",
    "from ipywidgets import interact, interact_manual"
   ]
  },
  {
   "cell_type": "code",
   "execution_count": 3,
   "metadata": {},
   "outputs": [],
   "source": [
    "dobs = []\n",
    "z = 1880\n",
    "\n",
    "for i in range(139):\n",
    "    if z <=2018:\n",
    "        f = open('yob%s.txt' % z, 'r')\n",
    "        text = f.readlines()\n",
    "        f.close()\n",
    "        for line in text:\n",
    "            line = line.replace(\"\\n\", \"\")\n",
    "            line = line+','+str(z)\n",
    "            dobs.append(line)\n",
    "        z = z+1\n",
    "            \n",
    "#dobs"
   ]
  },
  {
   "cell_type": "code",
   "execution_count": 99,
   "metadata": {},
   "outputs": [],
   "source": [
    "column_names = [\"Name\", \"Sex\", 'Count', \"Year\"]\n",
    "catstart = [\"Caterin,\", \"Caterine,\", \"Catharine,\", \"Catheren,\",\"Catherene,\",\"Catherin,\",\"Catherine,\",\n",
    "            \"Catherne,\",\"Catheryn,\",\"Catheryne,\",\"Cathirine,\",\"Cathreen,\",\"Cathren,\",\"Cathrin,\",\"Cathrine,\",\n",
    "            \"Cathryn,\",\"Cathryne,\",\"Cathrynn,\",\"Cathyrn,\",\"Catrin,\",\"Katerin,\",\"Katerine,\",\"Katerinne,\",\n",
    "            \"Kateryn,\",\"Katharin,\",\"Katharine,\",\"Katharyn,\", \"Katharyne,\",\"Katheran,\",\"Katheren,\",\"Katherene,\",\n",
    "            \"Katheriene,\",\"Katherin,\",\"Katherine,\",\"Katherinne,\",\"Katherne,\",\"Katheryn,\",\"Katheryne,\",\n",
    "            \"Katherynn,\",\"Kathran,\",\"Kathrean,\",\"Kathreen,\",\"Kathren,\",\"Kathrene,\",\"Kathrin,\",\"Kathrine,\",\n",
    "            \"Kathryn,\",\"Kathryne,\",\"Kathrynn,\",\"Kathrynne,\",\"Kathyren,\",\"Kathyrine,\",\"Kathyrn,\", \"Kitty,\"]\n",
    "namespell = []\n",
    "for name in catstart:\n",
    "    for line in dobs:\n",
    "        if str(name) in str(line):\n",
    "            namespell.append(line)\n",
    "catlist = []\n",
    "for line in namespell:\n",
    "    line = str(line)\n",
    "    words = line.split(',')\n",
    "    catlist.append(words)\n",
    "catname = pd.DataFrame(catlist, columns = column_names)\n",
    "\n",
    "catname[\"Year\"]= pd.to_numeric(catname[\"Year\"])\n",
    "catname[\"Count\"]= pd.to_numeric(catname[\"Count\"])\n",
    "\n",
    "#catname"
   ]
  },
  {
   "cell_type": "code",
   "execution_count": 100,
   "metadata": {},
   "outputs": [],
   "source": [
    "#len(catstart)"
   ]
  },
  {
   "cell_type": "code",
   "execution_count": 101,
   "metadata": {
    "scrolled": false
   },
   "outputs": [],
   "source": [
    "# built this to see what I was working with; never intended to use it\n",
    "\n",
    "#scale_types = [\"Normal\", \"Log\"]\n",
    "#@interact\n",
    "#def scatter_plot(x_axis=list(catname.columns), \n",
    "#                 y_axis=list(catname.columns),\n",
    "#                 color_scheme = plt.colormaps(),\n",
    "#                 color_value = list(catname.select_dtypes('number').columns),\n",
    "#                 scale = list(scale_types)):\n",
    "#    color_label = color_value\n",
    "#    fig, ax = plt.subplots(figsize=(20,20))\n",
    "#    plt.scatter(catname[x_axis], catname[y_axis], c=catname[color_value], cmap=color_scheme)\n",
    "#    plt.colorbar()\n",
    "#    plt.show()"
   ]
  },
  {
   "cell_type": "code",
   "execution_count": 6,
   "metadata": {},
   "outputs": [],
   "source": [
    "#scale_types = [\"Normal\", \"Log\"]\n",
    "#@interact\n",
    "#def bar_plot(x_axis=list(catname.columns), \n",
    "#                 y_axis=list(catname.columns),\n",
    "#                 color_scheme = plt.colormaps(),\n",
    "#                 color_value = list(catname.select_dtypes('number').columns),\n",
    "#                 scale = list(scale_types)):\n",
    "#    color_label = color_value\n",
    "#    fig, ax = plt.subplots(figsize=(20,20))\n",
    "#    plt.plot(catname[x_axis], catname[y_axis], c=catname[color_value], cmap=color_scheme)\n",
    "#    plt.colorbar()\n",
    "#    plt.show()"
   ]
  },
  {
   "cell_type": "code",
   "execution_count": 7,
   "metadata": {},
   "outputs": [],
   "source": [
    "#scale_types = [\"Normal\", \"Log\"]\n",
    "#@interact\n",
    "#def bar_plot(x_axis=list(catname.columns), \n",
    "#             y_axis=list(catname.columns),\n",
    "#    color_label = color_value\n",
    "#    fig, ax = plt.subplots(figsize=(20,20))\n",
    "#    plt.plot(catname[x_axis], catname[y_axis], c=catname[color_value], cmap=color_scheme)\n",
    "#    plt.colorbar()\n",
    "#    plt.show()"
   ]
  },
  {
   "cell_type": "code",
   "execution_count": 8,
   "metadata": {},
   "outputs": [],
   "source": [
    "#@interact\n",
    "#def change_name(names = list(catname[\"Names\"])):\n",
    "#    names"
   ]
  },
  {
   "cell_type": "code",
   "execution_count": 9,
   "metadata": {},
   "outputs": [],
   "source": [
    "#scale_types = [\"Normal\", \"Log\"]\n",
    "#@interact\n",
    "#def scatter_plot(names = list(catname[\"Names\"])):\n",
    "#    fig, ax = plt.subplots(figsize=(20,20))\n",
    "#    plt.plot(catname[names], catname[\"Year\"])\n",
    "#    plt.show()"
   ]
  },
  {
   "cell_type": "markdown",
   "metadata": {},
   "source": [
    "# Chart 1\n",
    "\n",
    "This chart shows broad trends in name propularity. I'll probably edit the legend to that the names are displayed in order of popularity, so that conclusions may be read more easily. One can alter the scale between normal and logometric, as needed, to help display nuanced differences. "
   ]
  },
  {
   "cell_type": "code",
   "execution_count": null,
   "metadata": {},
   "outputs": [],
   "source": []
  },
  {
   "cell_type": "code",
   "execution_count": 125,
   "metadata": {},
   "outputs": [
    {
     "data": {
      "application/vnd.jupyter.widget-view+json": {
       "model_id": "789e8ef9be794d4e9857edd249392a55",
       "version_major": 2,
       "version_minor": 0
      },
      "text/plain": [
       "interactive(children=(Checkbox(value=False, description='logscale'), Output()), _dom_classes=('widget-interact…"
      ]
     },
     "metadata": {},
     "output_type": "display_data"
    }
   ],
   "source": [
    "catclean = []\n",
    "for name in catstart:\n",
    "    name = name.replace(\",\", \"\")\n",
    "    catclean.append(name)\n",
    "\n",
    "@interact\n",
    "def groupby(logscale = widgets.Checkbox(value = False)):\n",
    "    fig, ax = plt.subplots(figsize=(20,20))\n",
    "    for name in catclean:\n",
    "        lineplot = catname.loc[catname[\"Name\"] == name].groupby(\"Year\")[\"Count\"].sum()\n",
    "        ax.plot(lineplot, label = name)\n",
    "    ax.set_xlabel(\"Year\")\n",
    "    ax.set_ylabel(\"Count\")\n",
    "    if logscale == True:\n",
    "        plt.yscale('log')\n",
    "    ax.legend()\n",
    "    plt.show()"
   ]
  },
  {
   "cell_type": "markdown",
   "metadata": {},
   "source": [
    "# Chart 2 and 3\n",
    "\n",
    "Chart 2 is used to examine the popularity of each spelling individually each spelling individually, to see how its popularity has changed over the years. Chart 3 compares two separate popularities. Both function similarly, and I may decide to phase out Chart 2 in favor of only using Chart 3. "
   ]
  },
  {
   "cell_type": "code",
   "execution_count": 10,
   "metadata": {},
   "outputs": [
    {
     "data": {
      "application/vnd.jupyter.widget-view+json": {
       "model_id": "49adc338cb4546d194446e9987b92d29",
       "version_major": 2,
       "version_minor": 0
      },
      "text/plain": [
       "interactive(children=(Dropdown(description='names', options=('Caterin', 'Caterine', 'Catharine', 'Catheren', '…"
      ]
     },
     "metadata": {},
     "output_type": "display_data"
    }
   ],
   "source": [
    "catclean = []\n",
    "for name in catstart:\n",
    "    name = name.replace(\",\", \"\")\n",
    "    catclean.append(name)\n",
    "scale_types = [\"Normal\", \"Log\"]\n",
    "@interact\n",
    "def over_time(names = list(catclean)):\n",
    "    xfactor = catname.loc[catname[\"Name\"] == names].groupby(\"Year\")[\"Count\"].sum()\n",
    "    fig, ax = plt.subplots(figsize=(20,20))\n",
    "    ax.plot(xfactor, label = names)\n",
    "    ax.set_xlabel(\"Year\")\n",
    "    ax.set_ylabel(\"Count\")\n",
    "    ax.legend()\n",
    "    plt.show()"
   ]
  },
  {
   "cell_type": "code",
   "execution_count": 120,
   "metadata": {},
   "outputs": [],
   "source": [
    "#catclean = []\n",
    "#for name in catstart:\n",
    "#    name = name.replace(\",\", \"\")\n",
    "#    catclean.append(name)\n",
    "#scale_types = [\"Normal\", \"Log\"]\n",
    "#@interact\n",
    "#def over_time(first_name = list(catclean),\n",
    "#             second_name = list(catclean)):\n",
    "#    line1 = catname.loc[catname[\"Name\"] == first_name].groupby(\"Year\")[\"Count\"].sum()\n",
    "#    line2 = catname.loc[catname[\"Name\"] == second_name].groupby(\"Year\")[\"Count\"].sum()\n",
    "#    fig, ax = plt.subplots(figsize=(20,20))\n",
    "#    ax.plot(line1, label = first_name)\n",
    "#    if first_name != second_name:\n",
    "#        ax.plot(line2, label = second_name)\n",
    "#    ax.set_xlabel(\"Year\")\n",
    "#    ax.set_ylabel(\"Count\")\n",
    "#    ax.legend()\n",
    "#    plt.show()"
   ]
  },
  {
   "cell_type": "code",
   "execution_count": 117,
   "metadata": {},
   "outputs": [],
   "source": [
    "#catclean = []\n",
    "#for name in catstart:\n",
    "#    name = name.replace(\",\", \"\")\n",
    "#    catclean.append(name)\n",
    "\n",
    "#fig, ax = plt.subplots(figsize=(20,20))\n",
    "#for name in catclean:\n",
    "#    lineplot = catname.loc[catname[\"Name\"] == name].groupby(\"Year\")[\"Count\"].sum()\n",
    "#    ax.plot(lineplot, label = name)\n",
    "#ax.set_xlabel(\"Year\")\n",
    "#ax.set_ylabel(\"Count\")\n",
    "#ax.legend()\n",
    "#plt.show()"
   ]
  },
  {
   "cell_type": "code",
   "execution_count": 118,
   "metadata": {},
   "outputs": [],
   "source": [
    "#catclean = []\n",
    "#for name in catstart:\n",
    "#    name = name.replace(\",\", \"\")\n",
    "#    catclean.append(name)\n",
    "\n",
    "#fig, ax = plt.subplots(figsize=(20,20))\n",
    "#for name in catclean:\n",
    "#    lineplot = catname.loc[catname[\"Name\"] == name].groupby(\"Year\")[\"Count\"].sum()\n",
    "#    ax.plot(lineplot, label = name)\n",
    "#ax.set_xlabel(\"Year\")\n",
    "#ax.set_ylabel(\"Count\")\n",
    "#plt.yscale('log')\n",
    "#ax.legend()\n",
    "#plt.show()"
   ]
  },
  {
   "cell_type": "code",
   "execution_count": 119,
   "metadata": {},
   "outputs": [
    {
     "data": {
      "application/vnd.jupyter.widget-view+json": {
       "model_id": "d032618de5fd4f7388c1ee49a41c8f00",
       "version_major": 2,
       "version_minor": 0
      },
      "text/plain": [
       "interactive(children=(Dropdown(description='first_name', options=('Caterin', 'Caterine', 'Catharine', 'Cathere…"
      ]
     },
     "metadata": {},
     "output_type": "display_data"
    }
   ],
   "source": [
    "catclean = []\n",
    "for name in catstart:\n",
    "    name = name.replace(\",\", \"\")\n",
    "    catclean.append(name)\n",
    "scale_types = [\"Normal\", \"Log\"]\n",
    "@interact\n",
    "def over_time(first_name = list(catclean),\n",
    "             second_name = list(catclean),\n",
    "             logscale = widgets.Checkbox(value = False)):\n",
    "    line1 = catname.loc[catname[\"Name\"] == first_name].groupby(\"Year\")[\"Count\"].sum()\n",
    "    line2 = catname.loc[catname[\"Name\"] == second_name].groupby(\"Year\")[\"Count\"].sum()\n",
    "    fig, ax = plt.subplots(figsize=(20,20))\n",
    "    ax.plot(line1, label = first_name)\n",
    "    if first_name != second_name:\n",
    "        ax.plot(line2, label = second_name)\n",
    "    ax.set_xlabel(\"Year\")\n",
    "    ax.set_ylabel(\"Count\")\n",
    "    if logscale == True:\n",
    "        plt.yscale('log')\n",
    "    ax.legend()\n",
    "    plt.show()"
   ]
  },
  {
   "cell_type": "code",
   "execution_count": 113,
   "metadata": {},
   "outputs": [],
   "source": [
    "#irange = widgets.IntSlider(min = 0, max = 100, step = 1)\n",
    "#irange"
   ]
  },
  {
   "cell_type": "code",
   "execution_count": 114,
   "metadata": {
    "scrolled": true
   },
   "outputs": [],
   "source": [
    "#irange.value"
   ]
  },
  {
   "cell_type": "code",
   "execution_count": 112,
   "metadata": {
    "scrolled": true
   },
   "outputs": [],
   "source": [
    "catgroup = catname.groupby(\"Name\")[\"Count\"].sum()\n",
    "#catgroup"
   ]
  },
  {
   "cell_type": "code",
   "execution_count": 110,
   "metadata": {},
   "outputs": [],
   "source": [
    "#num = 10\n",
    "#catmax = catgroup.nsmallest(num)\n",
    "#catmax"
   ]
  },
  {
   "cell_type": "code",
   "execution_count": 111,
   "metadata": {},
   "outputs": [],
   "source": [
    "#ngroup = widgets.IntSlider(min = 0, max = 100, step = 1)\n",
    "#ngroup"
   ]
  },
  {
   "cell_type": "markdown",
   "metadata": {},
   "source": [
    "# Chart 4\n",
    "\n",
    "Instead of selecting a name right off the bat, you can select a number of the most popular or least popular names to compare to one another. Use the slider to select how many names you wish to see, and choose \"most\" or \"least\" from the dropdown menu to change if you're seeing most popular names or least popular names. This would be beneficial when trying to understand broader trends. "
   ]
  },
  {
   "cell_type": "code",
   "execution_count": 79,
   "metadata": {},
   "outputs": [
    {
     "data": {
      "application/vnd.jupyter.widget-view+json": {
       "model_id": "6a8aa8b904cc4475926ffbeb3be903bb",
       "version_major": 2,
       "version_minor": 0
      },
      "text/plain": [
       "interactive(children=(IntSlider(value=1, description='how_many', max=54, min=1), Dropdown(description='most_or…"
      ]
     },
     "metadata": {},
     "output_type": "display_data"
    }
   ],
   "source": [
    "catgroup = catname.groupby(\"Name\")[\"Count\"].sum()\n",
    "options = [\"most\", \"least\"]\n",
    "@interact\n",
    "def groupby(how_many = widgets.IntSlider(min = 1, max = 54, step = 1),\n",
    "            most_or_least_popular = list(options),\n",
    "            logscale = widgets.Checkbox(value = False)):\n",
    "    if most_or_least_popular == \"most\":\n",
    "        catmax = catgroup.nlargest(how_many)\n",
    "    elif most_or_least_popular == \"least\":\n",
    "        catmax = catgroup.nsmallest(how_many)\n",
    "    topnames = catmax.index\n",
    "    fig, ax = plt.subplots(figsize=(20,20))\n",
    "    for name in topnames:\n",
    "        lineplot = catname.loc[catname[\"Name\"] == name].groupby(\"Year\")[\"Count\"].sum()\n",
    "        ax.plot(lineplot, label = name)\n",
    "    ax.set_xlabel(\"Year\")\n",
    "    ax.set_ylabel(\"Count\")\n",
    "    if logscale == True:\n",
    "        plt.yscale('log')\n",
    "    ax.legend()\n",
    "    plt.show()"
   ]
  },
  {
   "cell_type": "code",
   "execution_count": 105,
   "metadata": {},
   "outputs": [],
   "source": [
    "#widgets.Checkbox(value = False)"
   ]
  },
  {
   "cell_type": "code",
   "execution_count": 109,
   "metadata": {},
   "outputs": [],
   "source": [
    "#def over_time(first_name = list(catclean),\n",
    "#             second_name = list(catclean)):\n",
    "#    line1 = catname.loc[catname[\"Name\"] == first_name].groupby(\"Year\")[\"Count\"].sum()\n",
    "#    line2 = catname.loc[catname[\"Name\"] == second_name].groupby(\"Year\")[\"Count\"].sum()\n",
    "#    fig, ax = plt.subplots(figsize=(20,20))\n",
    "#    ax.plot(line1, label = first_name)\n",
    "#    if first_name != second_name:\n",
    "#        ax.plot(line2, label = second_name)\n",
    "#    ax.set_xlabel(\"Year\")\n",
    "#    ax.set_ylabel(\"Count\")\n",
    "#    ax.legend()\n",
    "#    plt.show()"
   ]
  },
  {
   "cell_type": "code",
   "execution_count": 104,
   "metadata": {},
   "outputs": [],
   "source": [
    "#catnum = catname.groupby(\"Year\")[\"Name\"].count()\n",
    "#fig, ax = plt.subplots(figsize=(20,20))\n",
    "#ax.plot(catname[\"Year\"], catname[\"Name\"])\n",
    "#plt.show()"
   ]
  },
  {
   "cell_type": "code",
   "execution_count": 108,
   "metadata": {},
   "outputs": [],
   "source": [
    "catnum = catname.groupby(\"Year\")[\"Name\"].count()\n",
    "#catnum"
   ]
  },
  {
   "cell_type": "code",
   "execution_count": 107,
   "metadata": {},
   "outputs": [],
   "source": [
    "#plt.bar(catnum.index, catnum.values)"
   ]
  },
  {
   "cell_type": "code",
   "execution_count": 121,
   "metadata": {},
   "outputs": [],
   "source": [
    "#fig, ax = plt.subplots(figsize=(20,20))\n",
    "#plt.bar(catnum.index, catnum.values)\n",
    "#ax.set_xlabel(\"Year\")\n",
    "#ax.set_ylabel(\"Count\")\n",
    "#plt.show()"
   ]
  },
  {
   "cell_type": "code",
   "execution_count": 64,
   "metadata": {},
   "outputs": [
    {
     "data": {
      "text/plain": [
       "array([1991, 1994, 1995, ..., 2016, 2017, 2018], dtype=int64)"
      ]
     },
     "execution_count": 64,
     "metadata": {},
     "output_type": "execute_result"
    }
   ],
   "source": [
    "catyears = catname[\"Year\"].values"
   ]
  },
  {
   "cell_type": "code",
   "execution_count": 97,
   "metadata": {},
   "outputs": [],
   "source": [
    "#fig, ax = plt.subplots(figsize=(20,20))\n",
    "#catnum.hist(column = catnum.index, bins = 10, ax = ax)\n",
    "#ax.set_xlabel(\"Year\")\n",
    "#ax.set_ylabel(\"Count\")\n",
    "#ax.legend()\n",
    "#plt.show()"
   ]
  },
  {
   "cell_type": "code",
   "execution_count": 96,
   "metadata": {},
   "outputs": [],
   "source": [
    "#barplot = bqplot.marks.Bars(x = catnum.index, y = catnum.values,\n",
    "#                              interactions = {'click': 'select'},\n",
    "#                              anchor_style = {'fill':'violet'}, \n",
    "#                              selected_style = {'opacity': 1.0},\n",
    "#                              unselected_style = {'opacity': 1.0})"
   ]
  },
  {
   "cell_type": "markdown",
   "metadata": {},
   "source": [
    "# Chart 5\n",
    "\n",
    "This barchart shows how many alternate spellings there are of \"Catherine\" each year. It was intended to be used in conjunction with a s bar chart; clicking on a bar would bring up a second, linked chart that showed the popularity of each variation. Currently, this functionality isn't working, and based on how this datastory might turn out I might just scrap it entirely."
   ]
  },
  {
   "cell_type": "code",
   "execution_count": 42,
   "metadata": {},
   "outputs": [
    {
     "data": {
      "application/vnd.jupyter.widget-view+json": {
       "model_id": "1998782af467471795f8af6456c16bf4",
       "version_major": 2,
       "version_minor": 0
      },
      "text/plain": [
       "Figure(axes=[Axis(label='Test X', scale=LinearScale(), tick_format='0.0f'), Axis(label='Test Y', orientation='…"
      ]
     },
     "metadata": {},
     "output_type": "display_data"
    }
   ],
   "source": [
    "x_data = catnum.index\n",
    "y_data = catnum.values\n",
    "\n",
    "x_sc = bqplot.LinearScale()\n",
    "y_sc = bqplot.LinearScale()\n",
    "\n",
    "ax_x = bqplot.Axis(label='Test X', scale=x_sc, tick_format='0.0f')\n",
    "ax_y = bqplot.Axis(label='Test Y', scale=y_sc,\n",
    "            orientation='vertical', tick_format='0.2f')\n",
    "\n",
    "line = bqplot.Bars(x=x_data,\n",
    "             y=y_data,\n",
    "             scales={'x': x_sc, 'y': y_sc},\n",
    "             colors=['red', 'yellow'],\n",
    "                   interactions = {'click': 'select'},\n",
    "                              anchor_style = {'fill':'violet'}, \n",
    "                              selected_style = {'opacity': 1.0},\n",
    "                              unselected_style = {'opacity': 1.0})\n",
    "\n",
    "fig = bqplot.Figure(axes=[ax_x, ax_y], marks=[line])\n",
    "fig"
   ]
  },
  {
   "cell_type": "code",
   "execution_count": 122,
   "metadata": {},
   "outputs": [],
   "source": [
    "catgen = catname.groupby(\"Sex\")[\"Count\"].sum()\n",
    "#catgen.plot(kind = \"bar\", figsize=(20,6))"
   ]
  },
  {
   "cell_type": "code",
   "execution_count": 102,
   "metadata": {},
   "outputs": [],
   "source": [
    "catman = catname.loc[catname[\"Sex\"] == \"M\"]\n",
    "#catman"
   ]
  },
  {
   "cell_type": "markdown",
   "metadata": {},
   "source": [
    "# Chart 6\n",
    "\n",
    "Made out of a new curiosity to see how many AMAB (assigned male at birth) folks were named a variation of Catherine. This shows the four Catherine variations given to male children."
   ]
  },
  {
   "cell_type": "code",
   "execution_count": 84,
   "metadata": {
    "scrolled": true
   },
   "outputs": [
    {
     "data": {
      "text/plain": [
       "<matplotlib.axes._subplots.AxesSubplot at 0x18f332e3dc8>"
      ]
     },
     "execution_count": 84,
     "metadata": {},
     "output_type": "execute_result"
    },
    {
     "data": {
      "image/png": "[encoded data removed]",
      "text/plain": [
       "<Figure size 1440x432 with 1 Axes>"
      ]
     },
     "metadata": {
      "needs_background": "light"
     },
     "output_type": "display_data"
    }
   ],
   "source": [
    "catboy = catman.groupby(\"Name\")[\"Count\"].sum()\n",
    "catboy.plot(kind = \"bar\", figsize=(20,6))"
   ]
  },
  {
   "cell_type": "markdown",
   "metadata": {},
   "source": [
    "# Chart 7\n",
    "\n",
    "A more in-depth popularity view of AMAB folks named variations of Katherine over time. It was hypothesized that this was perhaps variations of Catherine were more commonly male in the past and migrated to female, as in the case of the name \"Ashley\", but this was not the case."
   ]
  },
  {
   "cell_type": "code",
   "execution_count": 124,
   "metadata": {},
   "outputs": [
    {
     "data": {
      "application/vnd.jupyter.widget-view+json": {
       "model_id": "2d3103a9975d41109b540488a99aa362",
       "version_major": 2,
       "version_minor": 0
      },
      "text/plain": [
       "interactive(children=(Checkbox(value=False, description='logscale'), Output()), _dom_classes=('widget-interact…"
      ]
     },
     "metadata": {},
     "output_type": "display_data"
    }
   ],
   "source": [
    "catboynames = [\"Catherine\", \"Katharine\", \"Katherine\", \"Kathryn\"]\n",
    "    \n",
    "    \n",
    "@interact\n",
    "def groupby(logscale = widgets.Checkbox(value = False)):\n",
    "    fig, ax = plt.subplots(figsize=(20,20))\n",
    "    for name in catboynames:\n",
    "        lineplot = catman.loc[catman[\"Name\"] == name].groupby(\"Year\")[\"Count\"].sum()\n",
    "        ax.plot(lineplot, label = name)\n",
    "    ax.set_xlabel(\"Year\")\n",
    "    ax.set_ylabel(\"Count\")\n",
    "    if logscale == True:\n",
    "        plt.yscale('log')\n",
    "    ax.legend()\n",
    "    plt.show()"
   ]
  },
  {
   "cell_type": "code",
   "execution_count": 103,
   "metadata": {},
   "outputs": [],
   "source": [
    "katname = catname.loc[catname[\"Name\"] == \"Katherine\"]\n",
    "#katname"
   ]
  },
  {
   "cell_type": "code",
   "execution_count": 95,
   "metadata": {},
   "outputs": [],
   "source": [
    "#fig, ax = plt.subplots(figsize=(20,20))\n",
    "#lineplot1 = katname.loc[catman[\"Sex\"] == \"M\"].groupby(\"Year\")[\"Count\"].sum()\n",
    "#ax.plot(lineplot1, label = \"Male\")\n",
    "#lineplot2 = katname.loc[catman[\"Sex\"] == \"F\"].groupby(\"Year\")[\"Count\"].sum()\n",
    "#ax.plot(lineplot2, label = \"Female\")\n",
    "#ax.set_xlabel(\"Year\")\n",
    "#ax.set_ylabel(\"Count\")\n",
    "#ax.legend()\n",
    "#plt.show()"
   ]
  },
  {
   "cell_type": "markdown",
   "metadata": {},
   "source": [
    "# Chart 8\n",
    "\n",
    "An in-depth view of the gender assigned at birth for individuals named \"Katherine\", which was the most popular varient of Catherine for AMAB individuals. "
   ]
  },
  {
   "cell_type": "code",
   "execution_count": 123,
   "metadata": {},
   "outputs": [
    {
     "data": {
      "application/vnd.jupyter.widget-view+json": {
       "model_id": "b93becd27aae4bae9e954f653b47ff36",
       "version_major": 2,
       "version_minor": 0
      },
      "text/plain": [
       "interactive(children=(Checkbox(value=False, description='logscale'), Output()), _dom_classes=('widget-interact…"
      ]
     },
     "metadata": {},
     "output_type": "display_data"
    }
   ],
   "source": [
    "male = katname.loc[katname[\"Sex\"] == \"M\"].groupby(\"Year\")[\"Count\"].sum()\n",
    "female = katname.loc[katname[\"Sex\"] == \"F\"].groupby(\"Year\")[\"Count\"].sum()\n",
    "\n",
    "@interact\n",
    "def groupby(logscale = widgets.Checkbox(value = False)):\n",
    "    fig, ax = plt.subplots(figsize=(20,6))\n",
    "    ax.plot(male, label = \"Male\")\n",
    "    ax.plot(female, label = \"Female\")\n",
    "    ax.set_xlabel(\"Year\")\n",
    "    ax.set_ylabel(\"help\")\n",
    "    ax.legend()\n",
    "    if logscale == True:\n",
    "        plt.yscale('log')\n",
    "    plt.show()"
   ]
  },
  {
   "cell_type": "code",
   "execution_count": 127,
   "metadata": {
    "scrolled": false
   },
   "outputs": [
    {
     "data": {
      "text/html": [
       "<div>\n",
       "<style scoped>\n",
       "    .dataframe tbody tr th:only-of-type {\n",
       "        vertical-align: middle;\n",
       "    }\n",
       "\n",
       "    .dataframe tbody tr th {\n",
       "        vertical-align: top;\n",
       "    }\n",
       "\n",
       "    .dataframe thead th {\n",
       "        text-align: right;\n",
       "    }\n",
       "</style>\n",
       "<table border=\"1\" class=\"dataframe\">\n",
       "  <thead>\n",
       "    <tr style=\"text-align: right;\">\n",
       "      <th></th>\n",
       "      <th>Name</th>\n",
       "      <th>Sex</th>\n",
       "      <th>Count</th>\n",
       "      <th>Year</th>\n",
       "    </tr>\n",
       "  </thead>\n",
       "  <tbody>\n",
       "    <tr>\n",
       "      <td>0</td>\n",
       "      <td>Mary</td>\n",
       "      <td>F</td>\n",
       "      <td>7065</td>\n",
       "      <td>1880</td>\n",
       "    </tr>\n",
       "    <tr>\n",
       "      <td>1</td>\n",
       "      <td>Anna</td>\n",
       "      <td>F</td>\n",
       "      <td>2604</td>\n",
       "      <td>1880</td>\n",
       "    </tr>\n",
       "    <tr>\n",
       "      <td>2</td>\n",
       "      <td>Emma</td>\n",
       "      <td>F</td>\n",
       "      <td>2003</td>\n",
       "      <td>1880</td>\n",
       "    </tr>\n",
       "    <tr>\n",
       "      <td>3</td>\n",
       "      <td>Elizabeth</td>\n",
       "      <td>F</td>\n",
       "      <td>1939</td>\n",
       "      <td>1880</td>\n",
       "    </tr>\n",
       "    <tr>\n",
       "      <td>4</td>\n",
       "      <td>Minnie</td>\n",
       "      <td>F</td>\n",
       "      <td>1746</td>\n",
       "      <td>1880</td>\n",
       "    </tr>\n",
       "    <tr>\n",
       "      <td>...</td>\n",
       "      <td>...</td>\n",
       "      <td>...</td>\n",
       "      <td>...</td>\n",
       "      <td>...</td>\n",
       "    </tr>\n",
       "    <tr>\n",
       "      <td>1957041</td>\n",
       "      <td>Zylas</td>\n",
       "      <td>M</td>\n",
       "      <td>5</td>\n",
       "      <td>2018</td>\n",
       "    </tr>\n",
       "    <tr>\n",
       "      <td>1957042</td>\n",
       "      <td>Zyran</td>\n",
       "      <td>M</td>\n",
       "      <td>5</td>\n",
       "      <td>2018</td>\n",
       "    </tr>\n",
       "    <tr>\n",
       "      <td>1957043</td>\n",
       "      <td>Zyrie</td>\n",
       "      <td>M</td>\n",
       "      <td>5</td>\n",
       "      <td>2018</td>\n",
       "    </tr>\n",
       "    <tr>\n",
       "      <td>1957044</td>\n",
       "      <td>Zyron</td>\n",
       "      <td>M</td>\n",
       "      <td>5</td>\n",
       "      <td>2018</td>\n",
       "    </tr>\n",
       "    <tr>\n",
       "      <td>1957045</td>\n",
       "      <td>Zzyzx</td>\n",
       "      <td>M</td>\n",
       "      <td>5</td>\n",
       "      <td>2018</td>\n",
       "    </tr>\n",
       "  </tbody>\n",
       "</table>\n",
       "<p>1957046 rows × 4 columns</p>\n",
       "</div>"
      ],
      "text/plain": [
       "              Name Sex Count  Year\n",
       "0             Mary   F  7065  1880\n",
       "1             Anna   F  2604  1880\n",
       "2             Emma   F  2003  1880\n",
       "3        Elizabeth   F  1939  1880\n",
       "4           Minnie   F  1746  1880\n",
       "...            ...  ..   ...   ...\n",
       "1957041      Zylas   M     5  2018\n",
       "1957042      Zyran   M     5  2018\n",
       "1957043      Zyrie   M     5  2018\n",
       "1957044      Zyron   M     5  2018\n",
       "1957045      Zzyzx   M     5  2018\n",
       "\n",
       "[1957046 rows x 4 columns]"
      ]
     },
     "execution_count": 127,
     "metadata": {},
     "output_type": "execute_result"
    }
   ],
   "source": [
    "listy = []\n",
    "for line in dobs:\n",
    "    line = str(line)\n",
    "    words = line.split(',')\n",
    "    listy.append(words)\n",
    "column_names = [\"Name\", \"Sex\", 'Count', \"Year\"]\n",
    "bname = pd.DataFrame(listy, columns = column_names)\n",
    "bname"
   ]
  },
  {
   "cell_type": "code",
   "execution_count": 134,
   "metadata": {},
   "outputs": [
    {
     "data": {
      "text/plain": [
       "<pandas.core.groupby.generic.SeriesGroupBy object at 0x0000018F67AC3548>"
      ]
     },
     "execution_count": 134,
     "metadata": {},
     "output_type": "execute_result"
    }
   ],
   "source": [
    "allcounts = bname.groupby(\"Year\")[\"Count\"].sum().values"
   ]
  },
  {
   "cell_type": "code",
   "execution_count": 144,
   "metadata": {},
   "outputs": [
    {
     "data": {
      "text/plain": [
       "array([1991, 1994, 1995, ..., 2016, 2017, 2018], dtype=int64)"
      ]
     },
     "execution_count": 144,
     "metadata": {},
     "output_type": "execute_result"
    }
   ],
   "source": [
    "catname[\"Year\"].values"
   ]
  },
  {
   "cell_type": "code",
   "execution_count": 132,
   "metadata": {
    "scrolled": true
   },
   "outputs": [
    {
     "ename": "TypeError",
     "evalue": "'DataFrameGroupBy' object is not callable",
     "output_type": "error",
     "traceback": [
      "\u001b[1;31m---------------------------------------------------------------------------\u001b[0m",
      "\u001b[1;31mTypeError\u001b[0m                                 Traceback (most recent call last)",
      "\u001b[1;32m<ipython-input-132-780214783433>\u001b[0m in \u001b[0;36m<module>\u001b[1;34m\u001b[0m\n\u001b[1;32m----> 1\u001b[1;33m \u001b[0mbname\u001b[0m\u001b[1;33m.\u001b[0m\u001b[0mgroupby\u001b[0m\u001b[1;33m(\u001b[0m\u001b[1;34m\"Year\"\u001b[0m\u001b[1;33m)\u001b[0m\u001b[1;33m(\u001b[0m\u001b[1;34m\"Name\"\u001b[0m\u001b[1;33m)\u001b[0m\u001b[1;33m[\u001b[0m\u001b[1;34m\"Count\"\u001b[0m\u001b[1;33m]\u001b[0m\u001b[1;33m.\u001b[0m\u001b[0msum\u001b[0m\u001b[1;33m(\u001b[0m\u001b[1;33m)\u001b[0m\u001b[1;33m\u001b[0m\u001b[1;33m\u001b[0m\u001b[0m\n\u001b[0m",
      "\u001b[1;31mTypeError\u001b[0m: 'DataFrameGroupBy' object is not callable"
     ]
    }
   ],
   "source": [
    "date = 1880\n",
    "indexy = 0\n",
    "\n",
    "for name in allcats:\n",
    "    usethis = allcounts[indexy]"
   ]
  },
  {
   "cell_type": "code",
   "execution_count": 159,
   "metadata": {},
   "outputs": [
    {
     "data": {
      "text/html": [
       "<div>\n",
       "<style scoped>\n",
       "    .dataframe tbody tr th:only-of-type {\n",
       "        vertical-align: middle;\n",
       "    }\n",
       "\n",
       "    .dataframe tbody tr th {\n",
       "        vertical-align: top;\n",
       "    }\n",
       "\n",
       "    .dataframe thead th {\n",
       "        text-align: right;\n",
       "    }\n",
       "</style>\n",
       "<table border=\"1\" class=\"dataframe\">\n",
       "  <thead>\n",
       "    <tr style=\"text-align: right;\">\n",
       "      <th></th>\n",
       "      <th>Name</th>\n",
       "      <th>Sex</th>\n",
       "      <th>Count</th>\n",
       "      <th>Year</th>\n",
       "    </tr>\n",
       "  </thead>\n",
       "  <tbody>\n",
       "    <tr>\n",
       "      <td>303</td>\n",
       "      <td>Catherine</td>\n",
       "      <td>F</td>\n",
       "      <td>688</td>\n",
       "      <td>1880</td>\n",
       "    </tr>\n",
       "    <tr>\n",
       "      <td>304</td>\n",
       "      <td>Catherine</td>\n",
       "      <td>F</td>\n",
       "      <td>635</td>\n",
       "      <td>1881</td>\n",
       "    </tr>\n",
       "    <tr>\n",
       "      <td>305</td>\n",
       "      <td>Catherine</td>\n",
       "      <td>F</td>\n",
       "      <td>726</td>\n",
       "      <td>1882</td>\n",
       "    </tr>\n",
       "    <tr>\n",
       "      <td>306</td>\n",
       "      <td>Catherine</td>\n",
       "      <td>F</td>\n",
       "      <td>853</td>\n",
       "      <td>1883</td>\n",
       "    </tr>\n",
       "    <tr>\n",
       "      <td>307</td>\n",
       "      <td>Catherine</td>\n",
       "      <td>F</td>\n",
       "      <td>874</td>\n",
       "      <td>1884</td>\n",
       "    </tr>\n",
       "    <tr>\n",
       "      <td>...</td>\n",
       "      <td>...</td>\n",
       "      <td>...</td>\n",
       "      <td>...</td>\n",
       "      <td>...</td>\n",
       "    </tr>\n",
       "    <tr>\n",
       "      <td>1889</td>\n",
       "      <td>Katherine</td>\n",
       "      <td>F</td>\n",
       "      <td>3445</td>\n",
       "      <td>2015</td>\n",
       "    </tr>\n",
       "    <tr>\n",
       "      <td>1890</td>\n",
       "      <td>Katherine</td>\n",
       "      <td>M</td>\n",
       "      <td>9</td>\n",
       "      <td>2015</td>\n",
       "    </tr>\n",
       "    <tr>\n",
       "      <td>1891</td>\n",
       "      <td>Katherine</td>\n",
       "      <td>F</td>\n",
       "      <td>3271</td>\n",
       "      <td>2016</td>\n",
       "    </tr>\n",
       "    <tr>\n",
       "      <td>1892</td>\n",
       "      <td>Katherine</td>\n",
       "      <td>F</td>\n",
       "      <td>2853</td>\n",
       "      <td>2017</td>\n",
       "    </tr>\n",
       "    <tr>\n",
       "      <td>1893</td>\n",
       "      <td>Katherine</td>\n",
       "      <td>F</td>\n",
       "      <td>2666</td>\n",
       "      <td>2018</td>\n",
       "    </tr>\n",
       "  </tbody>\n",
       "</table>\n",
       "<p>491 rows × 4 columns</p>\n",
       "</div>"
      ],
      "text/plain": [
       "           Name Sex  Count  Year\n",
       "303   Catherine   F    688  1880\n",
       "304   Catherine   F    635  1881\n",
       "305   Catherine   F    726  1882\n",
       "306   Catherine   F    853  1883\n",
       "307   Catherine   F    874  1884\n",
       "...         ...  ..    ...   ...\n",
       "1889  Katherine   F   3445  2015\n",
       "1890  Katherine   M      9  2015\n",
       "1891  Katherine   F   3271  2016\n",
       "1892  Katherine   F   2853  2017\n",
       "1893  Katherine   F   2666  2018\n",
       "\n",
       "[491 rows x 4 columns]"
      ]
     },
     "execution_count": 159,
     "metadata": {},
     "output_type": "execute_result"
    }
   ],
   "source": [
    "shortcat = catname.loc[catname[\"Name\"].isin(['Katherine', 'Catherine'])]\n",
    "shortcat"
   ]
  },
  {
   "cell_type": "code",
   "execution_count": 160,
   "metadata": {},
   "outputs": [],
   "source": [
    "catsort = shortcat.sort_values(by=['Year'])"
   ]
  },
  {
   "cell_type": "code",
   "execution_count": 175,
   "metadata": {},
   "outputs": [
    {
     "data": {
      "text/plain": [
       "array([1880, 1880, 1880, 1881, 1881, 1882, 1882, 1883, 1883, 1884, 1884,\n",
       "       1884, 1885, 1885, 1886, 1886, 1887, 1887, 1887, 1888, 1888, 1888,\n",
       "       1889, 1889, 1890, 1890, 1891, 1891, 1891, 1891, 1892, 1892, 1893,\n",
       "       1893, 1893, 1894, 1894, 1895, 1895, 1896, 1896, 1897, 1897, 1898,\n",
       "       1898, 1898, 1899, 1899, 1899, 1900, 1900, 1900, 1901, 1901, 1901,\n",
       "       1902, 1902, 1902, 1903, 1903, 1903, 1904, 1904, 1904, 1904, 1905,\n",
       "       1905, 1906, 1906, 1906, 1907, 1907, 1907, 1907, 1908, 1908, 1908,\n",
       "       1909, 1909, 1909, 1909, 1910, 1910, 1910, 1911, 1911, 1911, 1911,\n",
       "       1912, 1912, 1912, 1913, 1913, 1913, 1913, 1914, 1914, 1914, 1914,\n",
       "       1915, 1915, 1915, 1915, 1916, 1916, 1916, 1916, 1917, 1917, 1917,\n",
       "       1917, 1918, 1918, 1918, 1918, 1919, 1919, 1919, 1919, 1920, 1920,\n",
       "       1920, 1920, 1921, 1921, 1921, 1921, 1922, 1922, 1922, 1922, 1923,\n",
       "       1923, 1923, 1923, 1924, 1924, 1924, 1924, 1925, 1925, 1925, 1925,\n",
       "       1926, 1926, 1926, 1926, 1927, 1927, 1927, 1927, 1928, 1928, 1928,\n",
       "       1928, 1929, 1929, 1929, 1929, 1930, 1930, 1930, 1930, 1931, 1931,\n",
       "       1931, 1931, 1932, 1932, 1932, 1932, 1933, 1933, 1933, 1933, 1934,\n",
       "       1934, 1934, 1934, 1935, 1935, 1935, 1935, 1936, 1936, 1936, 1936,\n",
       "       1937, 1937, 1937, 1937, 1938, 1938, 1938, 1938, 1939, 1939, 1939,\n",
       "       1939, 1940, 1940, 1940, 1940, 1941, 1941, 1941, 1941, 1942, 1942,\n",
       "       1942, 1942, 1943, 1943, 1943, 1943, 1944, 1944, 1944, 1944, 1945,\n",
       "       1945, 1945, 1945, 1946, 1946, 1946, 1946, 1947, 1947, 1947, 1947,\n",
       "       1948, 1948, 1948, 1948, 1949, 1949, 1949, 1949, 1950, 1950, 1950,\n",
       "       1950, 1951, 1951, 1951, 1951, 1952, 1952, 1952, 1952, 1953, 1953,\n",
       "       1953, 1953, 1954, 1954, 1954, 1954, 1955, 1955, 1955, 1955, 1956,\n",
       "       1956, 1956, 1956, 1957, 1957, 1957, 1957, 1958, 1958, 1958, 1958,\n",
       "       1959, 1959, 1959, 1959, 1960, 1960, 1960, 1960, 1961, 1961, 1961,\n",
       "       1961, 1962, 1962, 1962, 1962, 1963, 1963, 1963, 1963, 1964, 1964,\n",
       "       1964, 1964, 1965, 1965, 1965, 1965, 1966, 1966, 1966, 1966, 1967,\n",
       "       1967, 1967, 1967, 1968, 1968, 1968, 1968, 1969, 1969, 1969, 1969,\n",
       "       1970, 1970, 1970, 1970, 1971, 1971, 1971, 1971, 1972, 1972, 1972,\n",
       "       1972, 1973, 1973, 1973, 1973, 1974, 1974, 1974, 1974, 1975, 1975,\n",
       "       1975, 1975, 1976, 1976, 1976, 1976, 1977, 1977, 1977, 1977, 1978,\n",
       "       1978, 1978, 1978, 1979, 1979, 1979, 1979, 1980, 1980, 1980, 1980,\n",
       "       1981, 1981, 1981, 1981, 1982, 1982, 1982, 1982, 1983, 1983, 1983,\n",
       "       1983, 1984, 1984, 1984, 1984, 1985, 1985, 1985, 1985, 1986, 1986,\n",
       "       1986, 1986, 1987, 1987, 1987, 1987, 1988, 1988, 1988, 1988, 1989,\n",
       "       1989, 1989, 1989, 1990, 1990, 1990, 1990, 1991, 1991, 1991, 1991,\n",
       "       1992, 1992, 1992, 1992, 1993, 1993, 1993, 1994, 1994, 1994, 1995,\n",
       "       1995, 1995, 1995, 1996, 1996, 1996, 1996, 1997, 1997, 1997, 1997,\n",
       "       1998, 1998, 1998, 1999, 1999, 1999, 1999, 2000, 2000, 2000, 2001,\n",
       "       2001, 2001, 2002, 2002, 2002, 2002, 2003, 2003, 2003, 2004, 2004,\n",
       "       2004, 2004, 2005, 2005, 2005, 2005, 2006, 2006, 2006, 2007, 2007,\n",
       "       2007, 2007, 2008, 2008, 2008, 2009, 2009, 2009, 2010, 2010, 2011,\n",
       "       2011, 2011, 2012, 2012, 2013, 2013, 2014, 2014, 2014, 2015, 2015,\n",
       "       2015, 2016, 2016, 2017, 2017, 2018, 2018], dtype=int64)"
      ]
     },
     "execution_count": 175,
     "metadata": {},
     "output_type": "execute_result"
    }
   ],
   "source": [
    "catyearsall = catsort[\"Year\"].values\n",
    "catyearsall"
   ]
  },
  {
   "cell_type": "code",
   "execution_count": 169,
   "metadata": {},
   "outputs": [
    {
     "data": {
      "text/plain": [
       "array([  688,   502,     5,   504,   635,   591,   726,   583,   853,\n",
       "         671,   874,     7,   751,   846,   744,   916,   794,   967,\n",
       "           5,   893,     6,  1212,  1198,   889,   900,  1232,   803,\n",
       "        1219,     6,     5,  1333,   961,     5,   963,  1336,   948,\n",
       "        1430,   968,  1514,  1594,  1047,  1511,   962,   914,  1705,\n",
       "           5,   942,     5,  1628,  1201,     5,  2081,   890,  1599,\n",
       "           5,  1896,     5,  1004,  1015,  1916,     5,     9,  1128,\n",
       "        1983,    11,  2198,  1190,  2230,  1277,     7,  1413,     7,\n",
       "        2457,     5,    10,  2750,  1430,     7,  2897,  1557,     8,\n",
       "        3161,  1752,    10,  1858,    11,     5,  3565,  2546,  4666,\n",
       "          11,  5302,    10,  2794,    12,     8,  3652,  6613,    20,\n",
       "        8181,    15,  4488,     8,    23,    13,  4801,  8469,    14,\n",
       "          16,  4956,  8689,    12,  5191,    12,  8842,  8334,  4846,\n",
       "          11,    17,  8878,    19,    17,  5276,  5156,    17,  8887,\n",
       "          12,  8538,    13,  4827,    22,    24,  4579,  8438,    22,\n",
       "          18,    28,  8363,  4696,    19,  7867,  4240,    13,    29,\n",
       "        7468,  3834,    19,    18,  3721,    35,  7255,  6912,    41,\n",
       "          19,  3396,  6276,    23,  3018,    13,  3032,  6298,    32,\n",
       "          22,    13,  2624,    38,  5642,    29,    14,  2590,  5447,\n",
       "        4908,  2330,    14,    19,    15,  4934,    20,  2386,  2338,\n",
       "          14,  4698,    18,  4536,  2356,    13,    26,  2484,    14,\n",
       "          23,  4459,  2575,     7,    20,  4524,    17,  2475,  4576,\n",
       "          13,    17,  4581,  2709,    10,  3004,  4884,    18,    15,\n",
       "        5267,    26,    13,  3377,  5425,    14,  3615,    24,    13,\n",
       "          16,  5257,  3524,    12,  3392,    18,  5030,     5,  4196,\n",
       "        6366,    14,  7889,  4886,    19,    13,    23,  5169,    10,\n",
       "        8245,  9136,    14,    19,  6039,  6205,  9656,    18,     9,\n",
       "        6929, 10566,    24,     8,    31, 11052,  6890,    17,  6559,\n",
       "          13, 10846,    17,    17,    16, 11077,  6738,    15,  7237,\n",
       "       11628,    24,    21,  7082, 12062,    19,    17,  6636, 11149,\n",
       "          27,    17, 10764,    23,  6432,  6139,    19, 10023,    14,\n",
       "          25,  9537,    24,  5878,    19,  9246,  5629,    19,  5272,\n",
       "           9,  8699,    20,    28,  5127,    18,  8291,  5073,    17,\n",
       "          23,  8236,    27,  4706,    10,  7247,  6961,    18,  4494,\n",
       "          23,    14,  4557,    21,  6344,    11,  4718,    16,  6130,\n",
       "          18,  6094,  5167,    16,    16,  5442,  6006,    20,  5123,\n",
       "        5335,    16,    30,    12,  4513,    11,  4685,  4418,  4262,\n",
       "          15,    12,  4182,  4531,    19,    17,    18,  3934,    11,\n",
       "        4854,  3781,    16,    14,  5055,  6034,    20,  3843,    21,\n",
       "          19,  3955,  6624,    26,  7467,    36,  3878,    14,    29,\n",
       "          16,  8019,  4081,    14,  4055,  8435,    31,  4097,  9180,\n",
       "           8,    45,  9681,    33,    17,  4249, 10159,  4238,    48,\n",
       "          19,    12,  4291,    39, 10127,    24,  4242, 10572,    44,\n",
       "        4107,    44, 10434,    24, 11151,    42,    16,  4505,    44,\n",
       "        4555, 11414,    94,    23,  4893,    32, 11624,  4816,     8,\n",
       "          20, 11490,  4534,    10, 11148,    20,    19, 10506,  4476,\n",
       "          19,  9587,  4102,    13,  8985,    11,  3858,  8875,    14,\n",
       "          11,  3738,    11,  8516,  3591,     8,  3346,    13,  8204,\n",
       "           7,  7934,     9,  3401,  3801,  8108,    13,    14,  7879,\n",
       "        3730,    12,  7212,  3292,    10,    10,  3231,  7125,  6738,\n",
       "          32,  3180,    11,     8,  2983,    14,  6391,  6293,     6,\n",
       "        2790,     7,  2470,  5817,     5,  2321,  5346,     6,     5,\n",
       "        1889,  4428,  3866,  1611,     5,  1934,  4186,  1911,  3951,\n",
       "        3719,  1865,  1941,     7,  3678,  1802,  3445,     9,  3271,\n",
       "        1666,  1577,  2853,  1498,  2666], dtype=int64)"
      ]
     },
     "execution_count": 169,
     "metadata": {},
     "output_type": "execute_result"
    }
   ],
   "source": [
    "catvaluesall = catsort[\"Count\"].values\n",
    "catvaluesall"
   ]
  },
  {
   "cell_type": "code",
   "execution_count": 179,
   "metadata": {},
   "outputs": [
    {
     "data": {
      "text/plain": [
       "[0.0,\n",
       " 0.0,\n",
       " 0.0,\n",
       " 0.0,\n",
       " 0.0,\n",
       " 0.0,\n",
       " 0.0,\n",
       " 0.0,\n",
       " 0.0,\n",
       " 0.0,\n",
       " 0.0,\n",
       " 0.0,\n",
       " 0.0,\n",
       " 0.0,\n",
       " 0.0,\n",
       " 0.0,\n",
       " 0.0,\n",
       " 0.0,\n",
       " 0.0,\n",
       " 0.0,\n",
       " 0.0,\n",
       " 0.0,\n",
       " 0.0,\n",
       " 0.0,\n",
       " 0.0,\n",
       " 0.0,\n",
       " 0.0,\n",
       " 0.0,\n",
       " 0.0,\n",
       " 0.0,\n",
       " 0.0,\n",
       " 0.0,\n",
       " 0.0,\n",
       " 0.0,\n",
       " 0.0,\n",
       " 0.0,\n",
       " 0.0,\n",
       " 0.0,\n",
       " 0.0,\n",
       " 0.0,\n",
       " 0.0,\n",
       " 0.0,\n",
       " 0.0,\n",
       " 0.0,\n",
       " 0.0,\n",
       " 0.0,\n",
       " 0.0,\n",
       " 0.0,\n",
       " 0.0,\n",
       " 0.0,\n",
       " 0.0,\n",
       " 0.0,\n",
       " 0.0,\n",
       " 0.0,\n",
       " 0.0,\n",
       " 0.0,\n",
       " 0.0,\n",
       " 0.0,\n",
       " 0.0,\n",
       " 0.0,\n",
       " 0.0,\n",
       " 0.0,\n",
       " 0.0,\n",
       " 0.0,\n",
       " 0.0,\n",
       " 0.0,\n",
       " 0.0,\n",
       " 0.0,\n",
       " 0.0,\n",
       " 0.0,\n",
       " 0.0,\n",
       " 0.0,\n",
       " 0.0,\n",
       " 0.0,\n",
       " 0.0,\n",
       " 0.0,\n",
       " 0.0,\n",
       " 0.0,\n",
       " 0.0,\n",
       " 0.0,\n",
       " 0.0,\n",
       " 0.0,\n",
       " 0.0,\n",
       " 0.0,\n",
       " 0.0,\n",
       " 0.0,\n",
       " 0.0,\n",
       " 0.0,\n",
       " 0.0,\n",
       " 0.0,\n",
       " 0.0,\n",
       " 0.0,\n",
       " 0.0,\n",
       " 0.0,\n",
       " 0.0,\n",
       " 0.0,\n",
       " 0.0,\n",
       " 0.0,\n",
       " 0.0,\n",
       " 0.0,\n",
       " 0.0,\n",
       " 0.0,\n",
       " 0.0,\n",
       " 0.0,\n",
       " 0.0,\n",
       " 0.0,\n",
       " 0.0,\n",
       " 0.0,\n",
       " 0.0,\n",
       " 0.0,\n",
       " 0.0,\n",
       " 0.0,\n",
       " 0.0,\n",
       " 0.0,\n",
       " 0.0,\n",
       " 0.0,\n",
       " 0.0,\n",
       " 0.0,\n",
       " 0.0,\n",
       " 0.0,\n",
       " 0.0,\n",
       " 0.0,\n",
       " 0.0,\n",
       " 0.0,\n",
       " 0.0,\n",
       " 0.0,\n",
       " 0.0,\n",
       " 0.0,\n",
       " 0.0,\n",
       " 0.0,\n",
       " 0.0,\n",
       " 0.0,\n",
       " 0.0,\n",
       " 0.0,\n",
       " 0.0,\n",
       " 0.0,\n",
       " 0.0,\n",
       " 0.0,\n",
       " 0.0,\n",
       " 0.0,\n",
       " 0.0,\n",
       " 0.0,\n",
       " 0.0,\n",
       " 0.0,\n",
       " 0.0,\n",
       " 0.0,\n",
       " 0.0,\n",
       " 0.0,\n",
       " 0.0,\n",
       " 0.0,\n",
       " 0.0,\n",
       " 0.0,\n",
       " 0.0,\n",
       " 0.0,\n",
       " 0.0,\n",
       " 0.0,\n",
       " 0.0,\n",
       " 0.0,\n",
       " 0.0,\n",
       " 0.0,\n",
       " 0.0,\n",
       " 0.0,\n",
       " 0.0,\n",
       " 0.0,\n",
       " 0.0,\n",
       " 0.0,\n",
       " 0.0,\n",
       " 0.0,\n",
       " 0.0,\n",
       " 0.0,\n",
       " 0.0,\n",
       " 0.0,\n",
       " 0.0,\n",
       " 0.0,\n",
       " 0.0,\n",
       " 0.0,\n",
       " 0.0,\n",
       " 0.0,\n",
       " 0.0,\n",
       " 0.0,\n",
       " 0.0,\n",
       " 0.0,\n",
       " 0.0,\n",
       " 0.0,\n",
       " 0.0,\n",
       " 0.0,\n",
       " 0.0,\n",
       " 0.0,\n",
       " 0.0,\n",
       " 0.0,\n",
       " 0.0,\n",
       " 0.0,\n",
       " 0.0,\n",
       " 0.0,\n",
       " 0.0,\n",
       " 0.0,\n",
       " 0.0,\n",
       " 0.0,\n",
       " 0.0,\n",
       " 0.0,\n",
       " 0.0,\n",
       " 0.0,\n",
       " 0.0,\n",
       " 0.0,\n",
       " 0.0,\n",
       " 0.0,\n",
       " 0.0,\n",
       " 0.0,\n",
       " 0.0,\n",
       " 0.0,\n",
       " 0.0,\n",
       " 0.0,\n",
       " 0.0,\n",
       " 0.0,\n",
       " 0.0,\n",
       " 0.0,\n",
       " 0.0,\n",
       " 0.0,\n",
       " 0.0,\n",
       " 0.0,\n",
       " 0.0,\n",
       " 0.0,\n",
       " 0.0,\n",
       " 0.0,\n",
       " 0.0,\n",
       " 0.0,\n",
       " 0.0,\n",
       " 0.0,\n",
       " 0.0,\n",
       " 0.0,\n",
       " 0.0,\n",
       " 0.0,\n",
       " 0.0,\n",
       " 0.0,\n",
       " 0.0,\n",
       " 0.0,\n",
       " 0.0,\n",
       " 0.0,\n",
       " 0.0,\n",
       " 0.0,\n",
       " 0.0,\n",
       " 0.0,\n",
       " 0.0,\n",
       " 0.0,\n",
       " 0.0,\n",
       " 0.0,\n",
       " 0.0,\n",
       " 0.0,\n",
       " 0.0,\n",
       " 0.0,\n",
       " 0.0,\n",
       " 0.0,\n",
       " 0.0,\n",
       " 0.0,\n",
       " 0.0,\n",
       " 0.0,\n",
       " 0.0,\n",
       " 0.0,\n",
       " 0.0,\n",
       " 0.0,\n",
       " 0.0,\n",
       " 0.0,\n",
       " 0.0,\n",
       " 0.0,\n",
       " 0.0,\n",
       " 0.0,\n",
       " 0.0,\n",
       " 0.0,\n",
       " 0.0,\n",
       " 0.0,\n",
       " 0.0,\n",
       " 0.0,\n",
       " 0.0,\n",
       " 0.0,\n",
       " 0.0,\n",
       " 0.0,\n",
       " 0.0,\n",
       " 0.0,\n",
       " 0.0,\n",
       " 0.0,\n",
       " 0.0,\n",
       " 0.0,\n",
       " 0.0,\n",
       " 0.0,\n",
       " 0.0,\n",
       " 0.0,\n",
       " 0.0,\n",
       " 0.0,\n",
       " 0.0,\n",
       " 0.0,\n",
       " 0.0,\n",
       " 0.0,\n",
       " 0.0,\n",
       " 0.0,\n",
       " 0.0,\n",
       " 0.0,\n",
       " 0.0,\n",
       " 0.0,\n",
       " 0.0,\n",
       " 0.0,\n",
       " 0.0,\n",
       " 0.0,\n",
       " 0.0,\n",
       " 0.0,\n",
       " 0.0,\n",
       " 0.0,\n",
       " 0.0,\n",
       " 0.0,\n",
       " 0.0,\n",
       " 0.0,\n",
       " 0.0,\n",
       " 0.0,\n",
       " 0.0,\n",
       " 0.0,\n",
       " 0.0,\n",
       " 0.0,\n",
       " 0.0,\n",
       " 0.0,\n",
       " 0.0,\n",
       " 0.0,\n",
       " 0.0,\n",
       " 0.0,\n",
       " 0.0,\n",
       " 0.0,\n",
       " 0.0,\n",
       " 0.0,\n",
       " 0.0,\n",
       " 0.0,\n",
       " 0.0,\n",
       " 0.0,\n",
       " 0.0,\n",
       " 0.0,\n",
       " 0.0,\n",
       " 0.0,\n",
       " 0.0,\n",
       " 0.0,\n",
       " 0.0,\n",
       " 0.0,\n",
       " 0.0,\n",
       " 0.0,\n",
       " 0.0,\n",
       " 0.0,\n",
       " 0.0,\n",
       " 0.0,\n",
       " 0.0,\n",
       " 0.0,\n",
       " 0.0,\n",
       " 0.0,\n",
       " 0.0,\n",
       " 0.0,\n",
       " 0.0,\n",
       " 0.0,\n",
       " 0.0,\n",
       " 0.0,\n",
       " 0.0,\n",
       " 0.0,\n",
       " 0.0,\n",
       " 0.0,\n",
       " 0.0,\n",
       " 0.0,\n",
       " 0.0,\n",
       " 0.0,\n",
       " 0.0,\n",
       " 0.0,\n",
       " 0.0,\n",
       " 0.0,\n",
       " 0.0,\n",
       " 0.0,\n",
       " 0.0,\n",
       " 0.0,\n",
       " 0.0,\n",
       " 0.0,\n",
       " 0.0,\n",
       " 0.0,\n",
       " 0.0,\n",
       " 0.0,\n",
       " 0.0,\n",
       " 0.0,\n",
       " 0.0,\n",
       " 0.0,\n",
       " 0.0,\n",
       " 0.0,\n",
       " 0.0,\n",
       " 0.0,\n",
       " 0.0,\n",
       " 0.0,\n",
       " 0.0,\n",
       " 0.0,\n",
       " 0.0,\n",
       " 0.0,\n",
       " 0.0,\n",
       " 0.0,\n",
       " 0.0,\n",
       " 0.0,\n",
       " 0.0,\n",
       " 0.0,\n",
       " 0.0,\n",
       " 0.0,\n",
       " 0.0,\n",
       " 0.0,\n",
       " 0.0,\n",
       " 0.0,\n",
       " 0.0,\n",
       " 0.0,\n",
       " 0.0,\n",
       " 0.0,\n",
       " 0.0,\n",
       " 0.0,\n",
       " 0.0,\n",
       " 0.0,\n",
       " 0.0,\n",
       " 0.0,\n",
       " 0.0,\n",
       " 0.0,\n",
       " 0.0,\n",
       " 0.0,\n",
       " 0.0,\n",
       " 0.0,\n",
       " 0.0,\n",
       " 0.0,\n",
       " 0.0,\n",
       " 0.0,\n",
       " 0.0,\n",
       " 0.0,\n",
       " 0.0,\n",
       " 0.0,\n",
       " 0.0,\n",
       " 0.0,\n",
       " 0.0,\n",
       " 0.0,\n",
       " 0.0,\n",
       " 0.0,\n",
       " 0.0,\n",
       " 0.0,\n",
       " 0.0,\n",
       " 0.0,\n",
       " 0.0,\n",
       " 0.0,\n",
       " 0.0,\n",
       " 0.0,\n",
       " 0.0,\n",
       " 0.0,\n",
       " 0.0,\n",
       " 0.0,\n",
       " 0.0,\n",
       " 0.0,\n",
       " 0.0,\n",
       " 0.0,\n",
       " 0.0,\n",
       " 0.0,\n",
       " 0.0,\n",
       " 0.0,\n",
       " 0.0,\n",
       " 0.0,\n",
       " 0.0,\n",
       " 0.0,\n",
       " 0.0,\n",
       " 0.0,\n",
       " 0.0,\n",
       " 0.0,\n",
       " 0.0,\n",
       " 0.0,\n",
       " 0.0,\n",
       " 0.0,\n",
       " 0.0,\n",
       " 0.0,\n",
       " 0.0,\n",
       " 0.0,\n",
       " 0.0,\n",
       " 0.0,\n",
       " 0.0,\n",
       " 0.0,\n",
       " 0.0,\n",
       " 0.0,\n",
       " 0.0,\n",
       " 0.0,\n",
       " 0.0,\n",
       " 0.0,\n",
       " 0.0,\n",
       " 0.0,\n",
       " 0.0,\n",
       " 0.0,\n",
       " 0.0,\n",
       " 0.0,\n",
       " 0.0,\n",
       " 0.0,\n",
       " 0.0,\n",
       " 0.0,\n",
       " 0.0,\n",
       " 0.0,\n",
       " 0.0]"
      ]
     },
     "execution_count": 179,
     "metadata": {},
     "output_type": "execute_result"
    }
   ],
   "source": [
    "percentage = []\n",
    "allcountsindex = 0\n",
    "catcountsindex = 0\n",
    "lastyear = 1880\n",
    "\n",
    "for year in catyearsall:\n",
    "    currentyear = int(year)\n",
    "    if currentyear != lastyear:\n",
    "        allcountsindex = allcountsindex+1\n",
    "    secondval = int(allcounts[allcountsindex])\n",
    "    firstval = int(catvaluesall[catcountsindex])\n",
    "    perval = firstval/secondval\n",
    "    perval2 = perval * 100\n",
    "    percentage.append(perval2)\n",
    "    lastyear = currentyear\n",
    "    catcountsindex = catcountsindex +1\n",
    "percentage"
   ]
  },
  {
   "cell_type": "markdown",
   "metadata": {},
   "source": [
    "# Other things to explore\n",
    "\n",
    "I'd like to analyze the most common names as a percentage of total babies over the course of time. It seems like there are spikes in Catherine/Katherine, but I realized belatedly that those names might actually remain pretty stable in the population over time, and its just the birthrates are spiking. However, as you can see from the last list I've printed, each name individually makes up such a small percentage of the population that getting a sizable percentage is impossible. I may simply plot birthrate and then use that as a baseline for comparison. It does seem difficult to get birthrates for my entire dataset, but I have found a dataset listing births for the majority of the years I'm looking at: https://www.infoplease.com/us/births/live-births-and-birth-rates-year\n",
    "\n",
    "As for examining why a name spelling became popular, I'd need to investigate cultural statistics. Which movies were out during a time, which books were popular, how popular they were. I'm struggling to find this information at the moment, but I do have some data on Kathrine Hepburn's filmography (https://www.imdb.com/name/nm0000031/) and award wins (https://www.imdb.com/name/nm0000031/awards?ref_=nm_awd) that may aid me. These aren't datasets by themselves, but I've not yet found a singular table of \"this is everything Katherine Hepburn has done\". In an ideal world I'd also get the profits or the number of people who came to see each movie, but I'm still looking for that data. I'd also like to try and dig into how popular books and other works of media containing characters named Catherine (like Wuthering Heights) were around relevant times, but I'm struggling to find sales data for these. I'm learning that though we have much data in the world, not all of it is the data we're looking for. "
   ]
  },
  {
   "cell_type": "code",
   "execution_count": null,
   "metadata": {},
   "outputs": [],
   "source": []
  }
 ],
 "metadata": {
  "kernelspec": {
   "display_name": "Python 3",
   "language": "python",
   "name": "python3"
  },
  "language_info": {
   "codemirror_mode": {
    "name": "ipython",
    "version": 3
   },
   "file_extension": ".py",
   "mimetype": "text/x-python",
   "name": "python",
   "nbconvert_exporter": "python",
   "pygments_lexer": "ipython3",
   "version": "3.7.4"
  }
 },
 "nbformat": 4,
 "nbformat_minor": 2
}
